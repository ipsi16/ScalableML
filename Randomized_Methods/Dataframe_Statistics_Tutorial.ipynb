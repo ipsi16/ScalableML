{
 "cells": [
  {
   "cell_type": "markdown",
   "metadata": {},
   "source": [
    "# More demos are at: http://allaboutscala.com/big-data/spark/"
   ]
  },
  {
   "cell_type": "code",
   "execution_count": 1,
   "metadata": {},
   "outputs": [],
   "source": [
    "import org.apache.spark.mllib"
   ]
  },
  {
   "cell_type": "code",
   "execution_count": 2,
   "metadata": {},
   "outputs": [],
   "source": [
    "import org.apache.spark.sql.functions.explode"
   ]
  },
  {
   "cell_type": "code",
   "execution_count": 3,
   "metadata": {},
   "outputs": [
    {
     "data": {
      "text/plain": [
       "sqlContext = org.apache.spark.sql.SQLContext@408eb9b\n"
      ]
     },
     "metadata": {},
     "output_type": "display_data"
    },
    {
     "data": {
      "text/plain": [
       "warning: there was one deprecation warning; re-run with -deprecation for details\n"
      ]
     },
     "metadata": {},
     "output_type": "display_data"
    },
    {
     "data": {
      "text/plain": [
       "org.apache.spark.sql.SQLContext@408eb9b"
      ]
     },
     "execution_count": 3,
     "metadata": {},
     "output_type": "execute_result"
    }
   ],
   "source": [
    "val sqlContext = new org.apache.spark.sql.SQLContext(sc)"
   ]
  },
  {
   "cell_type": "code",
   "execution_count": 4,
   "metadata": {},
   "outputs": [],
   "source": [
    "import sqlContext.implicits._ "
   ]
  },
  {
   "cell_type": "code",
   "execution_count": 5,
   "metadata": {},
   "outputs": [],
   "source": [
    "import org.apache.spark.sql.functions._"
   ]
  },
  {
   "cell_type": "code",
   "execution_count": 6,
   "metadata": {},
   "outputs": [
    {
     "data": {
      "text/plain": [
       "2.0.0"
      ]
     },
     "execution_count": 6,
     "metadata": {},
     "output_type": "execute_result"
    }
   ],
   "source": [
    "spark.version"
   ]
  },
  {
   "cell_type": "markdown",
   "metadata": {},
   "source": [
    "# DATAFRAME STATISTICS TUTORIAL"
   ]
  },
  {
   "cell_type": "code",
   "execution_count": 7,
   "metadata": {},
   "outputs": [
    {
     "data": {
      "text/plain": [
       "dfTags = [id: int, tag: string]\n"
      ]
     },
     "metadata": {},
     "output_type": "display_data"
    },
    {
     "data": {
      "text/plain": [
       "[id: int, tag: string]"
      ]
     },
     "execution_count": 7,
     "metadata": {},
     "output_type": "execute_result"
    }
   ],
   "source": [
    "// read a csv file and create a dataframe\n",
    "val dfTags = spark\n",
    "    .read\n",
    "    .option(\"header\", \"true\")\n",
    "    .option(\"inferSchema\", \"true\")\n",
    "    .csv(\"resources/question_tags_10K.csv\")\n",
    "    .toDF(\"id\", \"tag\")"
   ]
  },
  {
   "cell_type": "code",
   "execution_count": 8,
   "metadata": {},
   "outputs": [
    {
     "name": "stdout",
     "output_type": "stream",
     "text": [
      "root\n",
      " |-- id: integer (nullable = true)\n",
      " |-- tag: string (nullable = true)\n",
      "\n"
     ]
    }
   ],
   "source": [
    "//show dfTags schema\n",
    "dfTags.printSchema()"
   ]
  },
  {
   "cell_type": "code",
   "execution_count": 9,
   "metadata": {},
   "outputs": [
    {
     "data": {
      "text/html": [
       "<table>\n",
       "<tr><td>1</td><td>data</td></tr>\n",
       "<tr><td>4</td><td>c#</td></tr>\n",
       "<tr><td>4</td><td>winforms</td></tr>\n",
       "<tr><td>4</td><td>type-conversion</td></tr>\n",
       "<tr><td>4</td><td>decimal</td></tr>\n",
       "<tr><td>4</td><td>opacity</td></tr>\n",
       "<tr><td>6</td><td>html</td></tr>\n",
       "<tr><td>6</td><td>css</td></tr>\n",
       "<tr><td>6</td><td>css3</td></tr>\n",
       "<tr><td>6</td><td>internet-explorer-7</td></tr>\n",
       "</table>"
      ],
      "text/plain": [
       "+-----+---------------------+\n",
       "| 1   | data                |\n",
       "| 4   | c#                  |\n",
       "| 4   | winforms            |\n",
       "| 4   | type-conversion     |\n",
       "| 4   | decimal             |\n",
       "| 4   | opacity             |\n",
       "| 6   | html                |\n",
       "| 6   | css                 |\n",
       "| 6   | css3                |\n",
       "| 6   | internet-explorer-7 |\n",
       "+-----+---------------------+"
      ]
     },
     "execution_count": 9,
     "metadata": {},
     "output_type": "execute_result"
    }
   ],
   "source": [
    "// show a few examples\n",
    "dfTags.take(10)"
   ]
  },
  {
   "cell_type": "code",
   "execution_count": 10,
   "metadata": {},
   "outputs": [
    {
     "data": {
      "text/plain": [
       "dfQuestionsCSV = [id: int, creation_date: string ... 5 more fields]\n"
      ]
     },
     "metadata": {},
     "output_type": "display_data"
    },
    {
     "data": {
      "text/plain": [
       "[id: int, creation_date: string ... 5 more fields]"
      ]
     },
     "execution_count": 10,
     "metadata": {},
     "output_type": "execute_result"
    }
   ],
   "source": [
    "// Create a dataframe from questions file questions_10K.csv\n",
    "  val dfQuestionsCSV = spark\n",
    "    .read\n",
    "    .option(\"header\", \"true\")\n",
    "    .option(\"inferSchema\", \"true\")\n",
    "    .option(\"dateFormat\",\"yyyy-MM-dd HH:mm:ss\")\n",
    "    .csv(\"resources/questions_10K.csv\")\n",
    "    .toDF(\"id\", \"creation_date\", \"closed_date\", \"deletion_date\", \"score\", \"owner_userid\", \"answer_count\")\n"
   ]
  },
  {
   "cell_type": "code",
   "execution_count": 11,
   "metadata": {},
   "outputs": [
    {
     "name": "stdout",
     "output_type": "stream",
     "text": [
      "root\n",
      " |-- id: integer (nullable = true)\n",
      " |-- creation_date: string (nullable = true)\n",
      " |-- closed_date: string (nullable = true)\n",
      " |-- deletion_date: string (nullable = true)\n",
      " |-- score: integer (nullable = true)\n",
      " |-- owner_userid: string (nullable = true)\n",
      " |-- answer_count: string (nullable = true)\n",
      "\n"
     ]
    }
   ],
   "source": [
    "dfQuestionsCSV.printSchema()"
   ]
  },
  {
   "cell_type": "code",
   "execution_count": 12,
   "metadata": {},
   "outputs": [
    {
     "data": {
      "text/html": [
       "<table>\n",
       "<tr><td>1</td><td>2008-07-31T21:26:37Z</td><td>NA</td><td>2011-03-28T00:53:47Z</td><td>1</td><td>NA</td><td>0</td></tr>\n",
       "<tr><td>4</td><td>2008-07-31T21:42:52Z</td><td>NA</td><td>NA</td><td>472</td><td>8</td><td>13</td></tr>\n",
       "<tr><td>6</td><td>2008-07-31T22:08:08Z</td><td>NA</td><td>NA</td><td>210</td><td>9</td><td>5</td></tr>\n",
       "<tr><td>8</td><td>2008-07-31T23:33:19Z</td><td>2013-06-03T04:00:25Z</td><td>2015-02-11T08:26:40Z</td><td>42</td><td>NA</td><td>8</td></tr>\n",
       "<tr><td>9</td><td>2008-07-31T23:40:59Z</td><td>NA</td><td>NA</td><td>1452</td><td>1</td><td>58</td></tr>\n",
       "</table>"
      ],
      "text/plain": [
       "+-----+----------------------+----------------------+----------------------+------+-----+-----+\n",
       "| 1   | 2008-07-31T21:26:37Z | NA                   | 2011-03-28T00:53:47Z | 1    | NA  | 0   |\n",
       "| 4   | 2008-07-31T21:42:52Z | NA                   | NA                   | 472  | 8   | 13  |\n",
       "| 6   | 2008-07-31T22:08:08Z | NA                   | NA                   | 210  | 9   | 5   |\n",
       "| 8   | 2008-07-31T23:33:19Z | 2013-06-03T04:00:25Z | 2015-02-11T08:26:40Z | 42   | NA  | 8   |\n",
       "| 9   | 2008-07-31T23:40:59Z | NA                   | NA                   | 1452 | 1   | 58  |\n",
       "+-----+----------------------+----------------------+----------------------+------+-----+-----+"
      ]
     },
     "execution_count": 12,
     "metadata": {},
     "output_type": "execute_result"
    }
   ],
   "source": [
    "dfQuestionsCSV.take(5)"
   ]
  },
  {
   "cell_type": "code",
   "execution_count": 13,
   "metadata": {},
   "outputs": [
    {
     "data": {
      "text/plain": [
       "dfQuestions = [id: int, creation_date: timestamp ... 5 more fields]\n"
      ]
     },
     "metadata": {},
     "output_type": "display_data"
    },
    {
     "data": {
      "text/plain": [
       "[id: int, creation_date: timestamp ... 5 more fields]"
      ]
     },
     "execution_count": 13,
     "metadata": {},
     "output_type": "execute_result"
    }
   ],
   "source": [
    "// cast columns to data types\n",
    "  val dfQuestions = dfQuestionsCSV.select(\n",
    "    dfQuestionsCSV.col(\"id\").cast(\"integer\"),\n",
    "    dfQuestionsCSV.col(\"creation_date\").cast(\"timestamp\"),\n",
    "    dfQuestionsCSV.col(\"closed_date\").cast(\"timestamp\"),\n",
    "    dfQuestionsCSV.col(\"deletion_date\").cast(\"date\"),\n",
    "    dfQuestionsCSV.col(\"score\").cast(\"integer\"),\n",
    "    dfQuestionsCSV.col(\"owner_userid\").cast(\"integer\"),\n",
    "    dfQuestionsCSV.col(\"answer_count\").cast(\"integer\")\n",
    "  )"
   ]
  },
  {
   "cell_type": "code",
   "execution_count": 14,
   "metadata": {},
   "outputs": [
    {
     "name": "stdout",
     "output_type": "stream",
     "text": [
      "+---+--------------------+--------------------+-------------+-----+------------+------------+\n",
      "| id|       creation_date|         closed_date|deletion_date|score|owner_userid|answer_count|\n",
      "+---+--------------------+--------------------+-------------+-----+------------+------------+\n",
      "|  1|2008-07-31 21:26:...|                null|   2011-03-28|    1|        null|           0|\n",
      "|  4|2008-07-31 21:42:...|                null|         null|  472|           8|          13|\n",
      "|  6|2008-07-31 22:08:...|                null|         null|  210|           9|           5|\n",
      "|  8|2008-07-31 23:33:...|2013-06-03 04:00:...|   2015-02-11|   42|        null|           8|\n",
      "|  9|2008-07-31 23:40:...|                null|         null| 1452|           1|          58|\n",
      "| 11|2008-07-31 23:55:...|                null|         null| 1154|           1|          33|\n",
      "| 13|2008-08-01 00:42:...|                null|         null|  464|           9|          25|\n",
      "| 14|2008-08-01 00:59:...|                null|         null|  296|          11|           8|\n",
      "| 16|2008-08-01 04:59:...|                null|         null|   84|           2|           5|\n",
      "| 17|2008-08-01 05:09:...|                null|         null|  119|           2|          11|\n",
      "| 19|2008-08-01 05:21:...|                null|         null|  227|          13|          21|\n",
      "| 23|2008-08-01 12:09:...|2012-05-18 11:12:...|   2012-12-13|   25|        null|           8|\n",
      "| 24|2008-08-01 12:12:...|                null|         null|  108|          22|           6|\n",
      "| 25|2008-08-01 12:13:...|                null|         null|  101|          23|          10|\n",
      "| 34|2008-08-01 12:30:...|                null|         null|   55|        null|           8|\n",
      "| 36|2008-08-01 12:35:...|                null|         null|  102|          32|           8|\n",
      "| 38|2008-08-01 12:43:...|                null|   2008-08-01|    0|        null|           1|\n",
      "| 39|2008-08-01 12:43:...|                null|         null|   58|          33|           2|\n",
      "| 40|2008-08-01 12:44:...|                null|   2009-08-24|    0|        null|           0|\n",
      "| 42|2008-08-01 12:50:...|                null|         null|  221|          37|           8|\n",
      "+---+--------------------+--------------------+-------------+-----+------------+------------+\n",
      "only showing top 20 rows\n",
      "\n"
     ]
    }
   ],
   "source": [
    "// show a few examples\n",
    "dfQuestions.show()"
   ]
  },
  {
   "cell_type": "code",
   "execution_count": 15,
   "metadata": {},
   "outputs": [
    {
     "name": "stdout",
     "output_type": "stream",
     "text": [
      "root\n",
      " |-- id: integer (nullable = true)\n",
      " |-- creation_date: timestamp (nullable = true)\n",
      " |-- closed_date: timestamp (nullable = true)\n",
      " |-- deletion_date: date (nullable = true)\n",
      " |-- score: integer (nullable = true)\n",
      " |-- owner_userid: integer (nullable = true)\n",
      " |-- answer_count: integer (nullable = true)\n",
      "\n"
     ]
    }
   ],
   "source": [
    "dfQuestions.printSchema()"
   ]
  },
  {
   "cell_type": "markdown",
   "metadata": {},
   "source": [
    "# Examples For Calculating Dataframe Statistics"
   ]
  },
  {
   "cell_type": "code",
   "execution_count": 16,
   "metadata": {},
   "outputs": [
    {
     "name": "stdout",
     "output_type": "stream",
     "text": [
      "+-----------------+\n",
      "|       avg(score)|\n",
      "+-----------------+\n",
      "|36.14631463146315|\n",
      "+-----------------+\n",
      "\n"
     ]
    }
   ],
   "source": [
    "// Average\n",
    "//  import org.apache.spark.sql.functions._\n",
    "  dfQuestions\n",
    "    .select(avg(\"score\"))\n",
    "    .show()\n"
   ]
  },
  {
   "cell_type": "code",
   "execution_count": 17,
   "metadata": {},
   "outputs": [
    {
     "name": "stdout",
     "output_type": "stream",
     "text": [
      "+----------+\n",
      "|max(score)|\n",
      "+----------+\n",
      "|      4443|\n",
      "+----------+\n",
      "\n"
     ]
    }
   ],
   "source": [
    "// Maximum\n",
    "  dfQuestions\n",
    "    .select(max(\"score\"))\n",
    "    .show()\n"
   ]
  },
  {
   "cell_type": "code",
   "execution_count": 18,
   "metadata": {},
   "outputs": [
    {
     "name": "stdout",
     "output_type": "stream",
     "text": [
      "+----------+\n",
      "|min(score)|\n",
      "+----------+\n",
      "|       -27|\n",
      "+----------+\n",
      "\n"
     ]
    }
   ],
   "source": [
    "// Minimum\n",
    "  dfQuestions\n",
    "    .select(min(\"score\"))\n",
    "    .show()\n",
    "\n"
   ]
  },
  {
   "cell_type": "code",
   "execution_count": 19,
   "metadata": {},
   "outputs": [
    {
     "name": "stdout",
     "output_type": "stream",
     "text": [
      "+-----------------+\n",
      "|       avg(score)|\n",
      "+-----------------+\n",
      "|36.14631463146315|\n",
      "+-----------------+\n",
      "\n"
     ]
    }
   ],
   "source": [
    " \n",
    "  // Mean\n",
    "  dfQuestions\n",
    "    .select(mean(\"score\"))\n",
    "    .show()\n"
   ]
  },
  {
   "cell_type": "code",
   "execution_count": 20,
   "metadata": {},
   "outputs": [
    {
     "name": "stdout",
     "output_type": "stream",
     "text": [
      "+----------+\n",
      "|sum(score)|\n",
      "+----------+\n",
      "|    361427|\n",
      "+----------+\n",
      "\n"
     ]
    }
   ],
   "source": [
    "\n",
    "  // Sum\n",
    "  dfQuestions\n",
    "    .select(sum(\"score\"))\n",
    "    .show()\n"
   ]
  },
  {
   "cell_type": "code",
   "execution_count": 21,
   "metadata": {},
   "outputs": [
    {
     "name": "stdout",
     "output_type": "stream",
     "text": [
      "+---+--------------------+-----------+-------------+-----+------------+------------+\n",
      "| id|       creation_date|closed_date|deletion_date|score|owner_userid|answer_count|\n",
      "+---+--------------------+-----------+-------------+-----+------------+------------+\n",
      "|402|2008-08-02 10:47:...|       null|         null|   81|         136|           9|\n",
      "|419|2008-08-02 11:52:...|       null|         null|   26|         268|           1|\n",
      "|427|2008-08-02 12:12:...|       null|         null|   20|         123|           3|\n",
      "|438|2008-08-02 12:56:...|       null|         null|   42|         136|           8|\n",
      "+---+--------------------+-----------+-------------+-----+------------+------------+\n",
      "\n"
     ]
    }
   ],
   "source": [
    "// Filtering\n",
    "dfQuestions\n",
    "    .filter(\"id > 400 and id < 450\")\n",
    "    .filter(\"owner_userid is not null\")\n",
    "    .show()\n"
   ]
  },
  {
   "cell_type": "code",
   "execution_count": 22,
   "metadata": {},
   "outputs": [
    {
     "name": "stdout",
     "output_type": "stream",
     "text": [
      "+---+--------------------+-----------+-------------+-----+------------+------------+---+-----------------+\n",
      "| id|       creation_date|closed_date|deletion_date|score|owner_userid|answer_count| id|              tag|\n",
      "+---+--------------------+-----------+-------------+-----+------------+------------+---+-----------------+\n",
      "|402|2008-08-02 10:47:...|       null|         null|   81|         136|           9|402|      objective-c|\n",
      "|402|2008-08-02 10:47:...|       null|         null|   81|         136|           9|402|           iphone|\n",
      "|419|2008-08-02 11:52:...|       null|         null|   26|         268|           1|419|              vb6|\n",
      "|419|2008-08-02 11:52:...|       null|         null|   26|         268|           1|419|              com|\n",
      "|427|2008-08-02 12:12:...|       null|         null|   20|         123|           3|427|         pocketpc|\n",
      "|427|2008-08-02 12:12:...|       null|         null|   20|         123|           3|427|   windows-mobile|\n",
      "|427|2008-08-02 12:12:...|       null|         null|   20|         123|           3|427|internet-explorer|\n",
      "|438|2008-08-02 12:56:...|       null|         null|   42|         136|           8|438|             http|\n",
      "|438|2008-08-02 12:56:...|       null|         null|   42|         136|           8|438|             ruby|\n",
      "|438|2008-08-02 12:56:...|       null|         null|   42|         136|           8|438|    ruby-on-rails|\n",
      "+---+--------------------+-----------+-------------+-----+------------+------------+---+-----------------+\n",
      "\n"
     ]
    }
   ],
   "source": [
    "// Filter then join two dataframes\n",
    "dfQuestions\n",
    "    .filter(\"id > 400 and id < 450\")\n",
    "    .filter(\"owner_userid is not null\")\n",
    "    .join(dfTags, dfQuestions.col(\"id\").equalTo(dfTags(\"id\")))\n",
    "    .show()"
   ]
  },
  {
   "cell_type": "code",
   "execution_count": 23,
   "metadata": {},
   "outputs": [
    {
     "name": "stdout",
     "output_type": "stream",
     "text": [
      "[Stage 26:=============================================>        (168 + 4) / 199]+------------+----------+-----------------+\n",
      "|owner_userid|avg(score)|max(answer_count)|\n",
      "+------------+----------+-----------------+\n",
      "|         268|      26.0|                1|\n",
      "|         136|      57.6|                9|\n",
      "|         123|      20.0|                3|\n",
      "+------------+----------+-----------------+\n",
      "\n"
     ]
    }
   ],
   "source": [
    "// Filter, join, then group and aggregate two dataframes by userIDs\n",
    "  dfQuestions\n",
    "    .filter(\"id > 400 and id < 450\")\n",
    "    .filter(\"owner_userid is not null\")\n",
    "    .join(dfTags, dfQuestions.col(\"id\").equalTo(dfTags(\"id\")))\n",
    "    .groupBy(dfQuestions.col(\"owner_userid\"))\n",
    "    .agg(avg(\"score\"), max(\"answer_count\"))\n",
    "    .show()\n"
   ]
  },
  {
   "cell_type": "code",
   "execution_count": 24,
   "metadata": {},
   "outputs": [
    {
     "name": "stdout",
     "output_type": "stream",
     "text": [
      "+---+--------------------+--------------------+-------------+-----+------------+------------+\n",
      "| id|       creation_date|         closed_date|deletion_date|score|owner_userid|answer_count|\n",
      "+---+--------------------+--------------------+-------------+-----+------------+------------+\n",
      "|  1|2008-07-31 21:26:...|                null|   2011-03-28|    1|        null|           0|\n",
      "|  4|2008-07-31 21:42:...|                null|         null|  472|           8|          13|\n",
      "|  6|2008-07-31 22:08:...|                null|         null|  210|           9|           5|\n",
      "|  8|2008-07-31 23:33:...|2013-06-03 04:00:...|   2015-02-11|   42|        null|           8|\n",
      "|  9|2008-07-31 23:40:...|                null|         null| 1452|           1|          58|\n",
      "| 11|2008-07-31 23:55:...|                null|         null| 1154|           1|          33|\n",
      "| 13|2008-08-01 00:42:...|                null|         null|  464|           9|          25|\n",
      "| 14|2008-08-01 00:59:...|                null|         null|  296|          11|           8|\n",
      "| 16|2008-08-01 04:59:...|                null|         null|   84|           2|           5|\n",
      "| 17|2008-08-01 05:09:...|                null|         null|  119|           2|          11|\n",
      "| 19|2008-08-01 05:21:...|                null|         null|  227|          13|          21|\n",
      "| 23|2008-08-01 12:09:...|2012-05-18 11:12:...|   2012-12-13|   25|        null|           8|\n",
      "| 24|2008-08-01 12:12:...|                null|         null|  108|          22|           6|\n",
      "| 25|2008-08-01 12:13:...|                null|         null|  101|          23|          10|\n",
      "| 34|2008-08-01 12:30:...|                null|         null|   55|        null|           8|\n",
      "| 36|2008-08-01 12:35:...|                null|         null|  102|          32|           8|\n",
      "| 38|2008-08-01 12:43:...|                null|   2008-08-01|    0|        null|           1|\n",
      "| 39|2008-08-01 12:43:...|                null|         null|   58|          33|           2|\n",
      "| 40|2008-08-01 12:44:...|                null|   2009-08-24|    0|        null|           0|\n",
      "| 42|2008-08-01 12:50:...|                null|         null|  221|          37|           8|\n",
      "+---+--------------------+--------------------+-------------+-----+------------+------------+\n",
      "only showing top 20 rows\n",
      "\n"
     ]
    }
   ],
   "source": [
    "dfQuestions.show()"
   ]
  },
  {
   "cell_type": "code",
   "execution_count": 25,
   "metadata": {},
   "outputs": [
    {
     "name": "stdout",
     "output_type": "stream",
     "text": [
      "+-------+-----------------+------------------+-----------------+------------------+\n",
      "|summary|               id|             score|     owner_userid|      answer_count|\n",
      "+-------+-----------------+------------------+-----------------+------------------+\n",
      "|  count|             9999|              9999|             7388|              9922|\n",
      "|   mean|33929.17081708171| 36.14631463146315|47389.99472116947|6.6232614392259626|\n",
      "| stddev|19110.09560532429|160.48316753972045|280943.1070344427| 9.069109116851138|\n",
      "|    min|                1|               -27|                1|                -5|\n",
      "|    max|            66037|              4443|          3431280|               316|\n",
      "+-------+-----------------+------------------+-----------------+------------------+\n",
      "\n"
     ]
    },
    {
     "data": {
      "text/plain": [
       "dfQuestionsStatistics = [summary: string, id: string ... 3 more fields]\n"
      ]
     },
     "metadata": {},
     "output_type": "display_data"
    },
    {
     "data": {
      "text/plain": [
       "[summary: string, id: string ... 3 more fields]"
      ]
     },
     "execution_count": 25,
     "metadata": {},
     "output_type": "execute_result"
    }
   ],
   "source": [
    "// DataFrame Statistics using describe() method\n",
    "  val dfQuestionsStatistics = dfQuestions.describe()\n",
    "  dfQuestionsStatistics.show()\n"
   ]
  },
  {
   "cell_type": "code",
   "execution_count": 26,
   "metadata": {},
   "outputs": [
    {
     "name": "stdout",
     "output_type": "stream",
     "text": [
      "correlation between column score and answer_count = 0.3699847903294707\n"
     ]
    },
    {
     "data": {
      "text/plain": [
       "correlation = 0.3699847903294707\n"
      ]
     },
     "metadata": {},
     "output_type": "display_data"
    },
    {
     "data": {
      "text/plain": [
       "0.3699847903294707"
      ]
     },
     "execution_count": 26,
     "metadata": {},
     "output_type": "execute_result"
    }
   ],
   "source": [
    " // Correlation\n",
    "  val correlation = dfQuestions.stat.corr(\"score\", \"answer_count\")\n",
    "  println(s\"correlation between column score and answer_count = $correlation\")"
   ]
  },
  {
   "cell_type": "code",
   "execution_count": 27,
   "metadata": {},
   "outputs": [
    {
     "name": "stdout",
     "output_type": "stream",
     "text": [
      "covariance between column score and answer_count = 537.513381444165\n"
     ]
    },
    {
     "data": {
      "text/plain": [
       "covariance = 537.513381444165\n"
      ]
     },
     "metadata": {},
     "output_type": "display_data"
    },
    {
     "data": {
      "text/plain": [
       "537.513381444165"
      ]
     },
     "execution_count": 27,
     "metadata": {},
     "output_type": "execute_result"
    }
   ],
   "source": [
    " // Covariance\n",
    "  val covariance = dfQuestions.stat.cov(\"score\", \"answer_count\")\n",
    "  println(s\"covariance between column score and answer_count = $covariance\")\n"
   ]
  },
  {
   "cell_type": "code",
   "execution_count": 28,
   "metadata": {},
   "outputs": [
    {
     "name": "stdout",
     "output_type": "stream",
     "text": [
      "+----------------------+\n",
      "|answer_count_freqItems|\n",
      "+----------------------+\n",
      "|  [23, 131, 77, 86,...|\n",
      "+----------------------+\n",
      "\n"
     ]
    },
    {
     "data": {
      "text/plain": [
       "dfFrequentScore = [answer_count_freqItems: array<int>]\n"
      ]
     },
     "metadata": {},
     "output_type": "display_data"
    },
    {
     "data": {
      "text/plain": [
       "[answer_count_freqItems: array<int>]"
      ]
     },
     "execution_count": 28,
     "metadata": {},
     "output_type": "execute_result"
    }
   ],
   "source": [
    " // Frequent Items\n",
    "  val dfFrequentScore = dfQuestions.stat.freqItems(Seq(\"answer_count\"))\n",
    "  dfFrequentScore.show()\n"
   ]
  },
  {
   "cell_type": "code",
   "execution_count": 29,
   "metadata": {},
   "outputs": [
    {
     "data": {
      "text/html": [
       "<table>\n",
       "<tr><td>[23, 131, 77, 86, 41, 50, 32, 53, 35, 17, 8, 44, 26, 80, 89, -1, 71, 11, 56, 47, 38, 29, 20, 2, 65, 316, 5, -4, 14, 214, 46, 100, 55, 73, 67, 58, 40, 49, 13, 4, 31, 22, 103, -5, 97, 16, 7, -2, 43, 52, 25, 34, 61, 10, 37, 1, 19, 28, 129, 87, 114, 69, 78, 99, 63, 54, 45, 36, 27, 9, 18, 57, 21, 48, 12, 3, 30, 39, 15, 42, 33, 6, 24, -3, 296, 0, null]</td></tr>\n",
       "</table>"
      ],
      "text/plain": [
       "+--------------------------------------------------------------------------------------------------------------------------------------------------------------------------------------------------------------------------------------------------------------------------------------------------------------------------------------------------------------+\n",
       "| [23, 131, 77, 86, 41, 50, 32, 53, 35, 17, 8, 44, 26, 80, 89, -1, 71, 11, 56, 47, 38, 29, 20, 2, 65, 316, 5, -4, 14, 214, 46, 100, 55, 73, 67, 58, 40, 49, 13, 4, 31, 22, 103, -5, 97, 16, 7, -2, 43, 52, 25, 34, 61, 10, 37, 1, 19, 28, 129, 87, 114, 69, 78, 99, 63, 54, 45, 36, 27, 9, 18, 57, 21, 48, 12, 3, 30, 39, 15, 42, 33, 6, 24, -3, 296, 0, null] |\n",
       "+--------------------------------------------------------------------------------------------------------------------------------------------------------------------------------------------------------------------------------------------------------------------------------------------------------------------------------------------------------------+"
      ]
     },
     "execution_count": 29,
     "metadata": {},
     "output_type": "execute_result"
    }
   ],
   "source": [
    "// show the whole array\n",
    "dfFrequentScore.take(1)"
   ]
  },
  {
   "cell_type": "code",
   "execution_count": 30,
   "metadata": {},
   "outputs": [
    {
     "name": "stdout",
     "output_type": "stream",
     "text": [
      "+------------------+---+---+---+---+---+---+---+---+---+---+\n",
      "|score_owner_userid|  1| 11| 13| 17|  2|  3|  4|  5|  8|  9|\n",
      "+------------------+---+---+---+---+---+---+---+---+---+---+\n",
      "|                56|  0|  0|  0|  1|  0|  0|  0|  0|  0|  0|\n",
      "|               472|  0|  0|  0|  0|  0|  0|  0|  0|  1|  0|\n",
      "|                14|  0|  0|  0|  1|  0|  0|  0|  1|  0|  0|\n",
      "|                20|  0|  0|  0|  0|  0|  0|  0|  1|  0|  0|\n",
      "|               179|  0|  0|  0|  0|  0|  1|  0|  0|  0|  0|\n",
      "|                84|  0|  0|  0|  0|  1|  0|  0|  0|  0|  0|\n",
      "|               160|  0|  0|  1|  0|  0|  0|  0|  0|  0|  0|\n",
      "|                21|  0|  0|  0|  0|  0|  0|  0|  1|  0|  0|\n",
      "|                 9|  0|  0|  0|  0|  0|  0|  1|  1|  0|  0|\n",
      "|                 2|  0|  0|  0|  0|  0|  0|  0|  1|  0|  1|\n",
      "|               296|  0|  1|  0|  0|  0|  0|  0|  0|  0|  0|\n",
      "|              1154|  1|  0|  0|  0|  0|  0|  0|  0|  0|  0|\n",
      "|                12|  0|  0|  0|  0|  0|  0|  0|  2|  0|  0|\n",
      "|                 7|  0|  0|  0|  0|  0|  0|  0|  1|  0|  0|\n",
      "|                 3|  0|  0|  0|  1|  0|  0|  0|  0|  0|  0|\n",
      "+------------------+---+---+---+---+---+---+---+---+---+---+\n",
      "only showing top 15 rows\n",
      "\n"
     ]
    },
    {
     "data": {
      "text/plain": [
       "dfScoreByUserid = [score_owner_userid: string, 1: bigint ... 9 more fields]\n"
      ]
     },
     "metadata": {},
     "output_type": "display_data"
    },
    {
     "data": {
      "text/plain": [
       "[score_owner_userid: string, 1: bigint ... 9 more fields]"
      ]
     },
     "execution_count": 30,
     "metadata": {},
     "output_type": "execute_result"
    }
   ],
   "source": [
    "// Crosstab\n",
    "  val dfScoreByUserid = dfQuestions\n",
    "    .filter(\"owner_userid > 0 and owner_userid < 20\")\n",
    "    .stat\n",
    "    .crosstab(\"score\", \"owner_userid\")\n",
    "  dfScoreByUserid.show(15)\n"
   ]
  },
  {
   "cell_type": "code",
   "execution_count": 31,
   "metadata": {},
   "outputs": [
    {
     "name": "stdout",
     "output_type": "stream",
     "text": [
      "+---+--------------------+--------------------+-------------+-----+------------+------------+\n",
      "| id|       creation_date|         closed_date|deletion_date|score|owner_userid|answer_count|\n",
      "+---+--------------------+--------------------+-------------+-----+------------+------------+\n",
      "|  6|2008-07-31 22:08:...|                null|         null|  210|           9|           5|\n",
      "| 16|2008-08-01 04:59:...|                null|         null|   84|           2|           5|\n",
      "| 25|2008-08-01 12:13:...|                null|         null|  101|          23|          10|\n",
      "| 48|2008-08-01 13:01:...|                null|         null|  200|          40|          20|\n",
      "| 59|2008-08-01 13:14:...|                null|         null|   66|          45|           5|\n",
      "| 88|2008-08-01 14:36:...|                null|         null|   71|          61|          10|\n",
      "|129|2008-08-01 16:22:...|2012-07-03 14:30:...|         null|   72|          48|           5|\n",
      "|176|2008-08-01 18:37:...|                null|         null|   85|          91|          10|\n",
      "|264|2008-08-01 23:28:...|                null|         null|   20|         104|           5|\n",
      "|265|2008-08-01 23:29:...|                null|         null|   22|         105|           5|\n",
      "|330|2008-08-02 02:51:...|                null|         null|   31|          63|          10|\n",
      "|336|2008-08-02 03:34:...|                null|         null|   48|          61|           5|\n",
      "|561|2008-08-02 21:34:...|                null|         null|   13|         157|           5|\n",
      "|564|2008-08-02 21:47:...|                null|         null|  182|          25|          20|\n",
      "|609|2008-08-03 02:48:...|                null|         null|   15|         179|           5|\n",
      "|705|2008-08-03 14:41:...|                null|         null|   25|          91|          10|\n",
      "|709|2008-08-03 14:53:...|                null|         null|   38|         111|          10|\n",
      "|769|2008-08-03 18:14:...|                null|         null|   30|          79|          10|\n",
      "|805|2008-08-03 20:11:...|                null|         null|    7|         232|           5|\n",
      "|845|2008-08-03 21:42:...|                null|         null|   94|         238|          10|\n",
      "+---+--------------------+--------------------+-------------+-----+------------+------------+\n",
      "only showing top 20 rows\n",
      "\n"
     ]
    },
    {
     "data": {
      "text/plain": [
       "dfQuestionsByAnswerCount: Unit = ()\n"
      ]
     },
     "metadata": {},
     "output_type": "display_data"
    }
   ],
   "source": [
    "  // find all rows where answer_count in (5, 10, 20)\n",
    "  val dfQuestionsByAnswerCount = dfQuestions\n",
    "    .filter(\"owner_userid > 0\")\n",
    "    .filter(\"answer_count in (5, 10, 20)\")\n",
    "    .show()"
   ]
  },
  {
   "cell_type": "code",
   "execution_count": 32,
   "metadata": {},
   "outputs": [
    {
     "name": "stdout",
     "output_type": "stream",
     "text": [
      "+------------+-----+\n",
      "|answer_count|count|\n",
      "+------------+-----+\n",
      "|          20|   34|\n",
      "|           5|  811|\n",
      "|          10|  272|\n",
      "+------------+-----+\n",
      "\n"
     ]
    },
    {
     "data": {
      "text/plain": [
       "dfQuestionsByAnswerCount = [id: int, creation_date: timestamp ... 5 more fields]\n"
      ]
     },
     "metadata": {},
     "output_type": "display_data"
    },
    {
     "data": {
      "text/plain": [
       "[id: int, creation_date: timestamp ... 5 more fields]"
      ]
     },
     "execution_count": 32,
     "metadata": {},
     "output_type": "execute_result"
    }
   ],
   "source": [
    "\n",
    "\n",
    "  // Stratified sampling using sampleBy\n",
    "  // find all rows where answer_count in (5, 10, 20)\n",
    "  val dfQuestionsByAnswerCount = dfQuestions\n",
    "    .filter(\"owner_userid > 0\")\n",
    "    .filter(\"answer_count in (5, 10, 20)\")\n",
    "\n",
    "  // count how many rows match answer_count in (5, 10, 20)\n",
    "  dfQuestionsByAnswerCount\n",
    "    .groupBy(\"answer_count\")\n",
    "    .count()\n",
    "    .show()\n"
   ]
  },
  {
   "cell_type": "code",
   "execution_count": 33,
   "metadata": {},
   "outputs": [
    {
     "name": "stdout",
     "output_type": "stream",
     "text": [
      "+----+--------------------+--------------------+-------------+-----+------------+------------+\n",
      "|  id|       creation_date|         closed_date|deletion_date|score|owner_userid|answer_count|\n",
      "+----+--------------------+--------------------+-------------+-----+------------+------------+\n",
      "|  16|2008-08-01 04:59:...|                null|         null|   84|           2|           5|\n",
      "|  48|2008-08-01 13:01:...|                null|         null|  200|          40|          20|\n",
      "|  59|2008-08-01 13:14:...|                null|         null|   66|          45|           5|\n",
      "| 129|2008-08-01 16:22:...|2012-07-03 14:30:...|         null|   72|          48|           5|\n",
      "| 176|2008-08-01 18:37:...|                null|         null|   85|          91|          10|\n",
      "| 336|2008-08-02 03:34:...|                null|         null|   48|          61|           5|\n",
      "| 561|2008-08-02 21:34:...|                null|         null|   13|         157|           5|\n",
      "| 564|2008-08-02 21:47:...|                null|         null|  182|          25|          20|\n",
      "| 935|2008-08-04 01:00:...|                null|         null|   79|         246|           5|\n",
      "|1451|2008-08-04 17:46:...|                null|         null|   16|         106|           5|\n",
      "|1600|2008-08-04 21:27:...|                null|         null|   19|         230|           5|\n",
      "|1607|2008-08-04 21:31:...|2012-05-03 12:25:...|         null|  120|          72|          20|\n",
      "|1936|2008-08-05 05:33:...|                null|         null|  105|         364|           5|\n",
      "|1995|2008-08-05 07:49:...|                null|         null|   12|          51|           5|\n",
      "|2056|2008-08-05 10:06:...|                null|         null| 1544|         358|          20|\n",
      "|2158|2008-08-05 12:15:...|                null|         null|   75|         340|           5|\n",
      "|2540|2008-08-05 16:30:...|2014-04-03 15:36:...|         null|   42|         136|           5|\n",
      "|2702|2008-08-05 18:55:...|                null|         null|   24|         357|           5|\n",
      "|2770|2008-08-05 20:05:...|                null|         null|   30|         447|           5|\n",
      "|2811|2008-08-05 20:35:...|                null|         null|    7|         448|           5|\n",
      "+----+--------------------+--------------------+-------------+-----+------------+------------+\n",
      "only showing top 20 rows\n",
      "\n"
     ]
    },
    {
     "data": {
      "text/plain": [
       "fractionKeyMap = Map(5 -> 0.5, 10 -> 0.1, 20 -> 1.0)\n"
      ]
     },
     "metadata": {},
     "output_type": "display_data"
    },
    {
     "data": {
      "text/plain": [
       "Map(5 -> 0.5, 10 -> 0.1, 20 -> 1.0)"
      ]
     },
     "execution_count": 33,
     "metadata": {},
     "output_type": "execute_result"
    }
   ],
   "source": [
    "// Create a fraction map where we are only interested:\n",
    "  // - 50% of the rows that have answer_count = 5\n",
    "  // - 10% of the rows that have answer_count = 10\n",
    "  // - 100% of the rows that have answer_count = 20\n",
    "  // Note also that fractions should be in the range [0, 1]\n",
    "  val fractionKeyMap = Map(5 -> 0.5, 10 -> 0.1, 20 -> 1.0)\n",
    "\n",
    "  // Stratified sample using the fractionKeyMap.\n",
    "  dfQuestionsByAnswerCount\n",
    "    .stat\n",
    "    .sampleBy(\"answer_count\", fractionKeyMap, 7L)\n",
    "    .show()\n"
   ]
  },
  {
   "cell_type": "code",
   "execution_count": 34,
   "metadata": {},
   "outputs": [
    {
     "name": "stdout",
     "output_type": "stream",
     "text": [
      "+------------+-----+                                                            \n",
      "|answer_count|count|\n",
      "+------------+-----+\n",
      "|          20|   34|\n",
      "|           5|  400|\n",
      "|          10|   26|\n",
      "+------------+-----+\n",
      "\n"
     ]
    },
    {
     "data": {
      "text/plain": [
       "fractionKeyMap = Map(5 -> 0.5, 10 -> 0.1, 20 -> 1.0)\n"
      ]
     },
     "metadata": {},
     "output_type": "display_data"
    },
    {
     "data": {
      "text/plain": [
       "Map(5 -> 0.5, 10 -> 0.1, 20 -> 1.0)"
      ]
     },
     "execution_count": 34,
     "metadata": {},
     "output_type": "execute_result"
    }
   ],
   "source": [
    "// Create a fraction map where we are only interested:\n",
    "  // - 50% of the rows that have answer_count = 5\n",
    "  // - 10% of the rows that have answer_count = 10\n",
    "  // - 100% of the rows that have answer_count = 20\n",
    "  // Note also that fractions should be in the range [0, 1]\n",
    "  val fractionKeyMap = Map(5 -> 0.5, 10 -> 0.1, 20 -> 1.0)\n",
    "\n",
    "  // Stratified sample using the fractionKeyMap. 7L is the random seed\n",
    "  dfQuestionsByAnswerCount\n",
    "    .stat\n",
    "    .sampleBy(\"answer_count\", fractionKeyMap, 7L)\n",
    "    .groupBy(\"answer_count\")\n",
    "    .count()\n",
    "    .show()\n"
   ]
  },
  {
   "cell_type": "code",
   "execution_count": 35,
   "metadata": {},
   "outputs": [
    {
     "name": "stdout",
     "output_type": "stream",
     "text": [
      "+------------+-----+\n",
      "|answer_count|count|\n",
      "+------------+-----+\n",
      "|          20|   34|\n",
      "|           5|  388|\n",
      "|          10|   25|\n",
      "+------------+-----+\n",
      "\n"
     ]
    }
   ],
   "source": [
    "\n",
    "  // Note that changing the random seed will modify your sampling outcome. As an example, let's change the random seed to 37.\n",
    "  dfQuestionsByAnswerCount\n",
    "    .stat\n",
    "    .sampleBy(\"answer_count\", fractionKeyMap, 37L)\n",
    "    .groupBy(\"answer_count\")\n",
    "    .count()\n",
    "    .show()"
   ]
  },
  {
   "cell_type": "code",
   "execution_count": 36,
   "metadata": {},
   "outputs": [
    {
     "name": "stdout",
     "output_type": "stream",
     "text": [
      "+---+--------------------+--------------------+-------------+-----+------------+------------+\n",
      "| id|       creation_date|         closed_date|deletion_date|score|owner_userid|answer_count|\n",
      "+---+--------------------+--------------------+-------------+-----+------------+------------+\n",
      "|  1|2008-07-31 21:26:...|                null|   2011-03-28|    1|        null|           0|\n",
      "|  4|2008-07-31 21:42:...|                null|         null|  472|           8|          13|\n",
      "|  6|2008-07-31 22:08:...|                null|         null|  210|           9|           5|\n",
      "|  8|2008-07-31 23:33:...|2013-06-03 04:00:...|   2015-02-11|   42|        null|           8|\n",
      "|  9|2008-07-31 23:40:...|                null|         null| 1452|           1|          58|\n",
      "| 11|2008-07-31 23:55:...|                null|         null| 1154|           1|          33|\n",
      "| 13|2008-08-01 00:42:...|                null|         null|  464|           9|          25|\n",
      "| 14|2008-08-01 00:59:...|                null|         null|  296|          11|           8|\n",
      "| 16|2008-08-01 04:59:...|                null|         null|   84|           2|           5|\n",
      "| 17|2008-08-01 05:09:...|                null|         null|  119|           2|          11|\n",
      "| 19|2008-08-01 05:21:...|                null|         null|  227|          13|          21|\n",
      "| 23|2008-08-01 12:09:...|2012-05-18 11:12:...|   2012-12-13|   25|        null|           8|\n",
      "| 24|2008-08-01 12:12:...|                null|         null|  108|          22|           6|\n",
      "| 25|2008-08-01 12:13:...|                null|         null|  101|          23|          10|\n",
      "| 34|2008-08-01 12:30:...|                null|         null|   55|        null|           8|\n",
      "| 36|2008-08-01 12:35:...|                null|         null|  102|          32|           8|\n",
      "| 38|2008-08-01 12:43:...|                null|   2008-08-01|    0|        null|           1|\n",
      "| 39|2008-08-01 12:43:...|                null|         null|   58|          33|           2|\n",
      "| 40|2008-08-01 12:44:...|                null|   2009-08-24|    0|        null|           0|\n",
      "| 42|2008-08-01 12:50:...|                null|         null|  221|          37|           8|\n",
      "+---+--------------------+--------------------+-------------+-----+------------+------------+\n",
      "only showing top 20 rows\n",
      "\n"
     ]
    }
   ],
   "source": [
    "dfQuestions.show()\n"
   ]
  },
  {
   "cell_type": "code",
   "execution_count": 37,
   "metadata": {},
   "outputs": [
    {
     "name": "stdout",
     "output_type": "stream",
     "text": [
      "Qauntiles segments = WrappedArray(-27.0, 3.0, 6.0, 9.0, 12.0, 22.0, 4443.0)\n"
     ]
    },
    {
     "data": {
      "text/plain": [
       "quantiles = Array(-27.0, 3.0, 6.0, 9.0, 12.0, 22.0, 4443.0)\n"
      ]
     },
     "metadata": {},
     "output_type": "display_data"
    },
    {
     "data": {
      "text/plain": [
       "[-27.0, 3.0, 6.0, 9.0, 12.0, 22.0, 4443.0]"
      ]
     },
     "execution_count": 37,
     "metadata": {},
     "output_type": "execute_result"
    }
   ],
   "source": [
    " // Approximate Quantile of the score column\n",
    "// See documentation here: https://spark.apache.org/docs/2.0.2/api/java/org/apache/spark/sql/DataFrameStatFunctions.html\n",
    "\n",
    "  val quantiles = dfQuestions\n",
    "    .stat\n",
    "    .approxQuantile(\"score\", Array(0, 0.33, 0.5, 0.6, 0.7, 0.8, 1), 0.05)\n",
    "  println(s\"Qauntiles segments = ${quantiles.toSeq}\")\n"
   ]
  },
  {
   "cell_type": "code",
   "execution_count": 38,
   "metadata": {},
   "outputs": [
    {
     "name": "stdout",
     "output_type": "stream",
     "text": [
      "+---+-------------------+\n",
      "| id|                tag|\n",
      "+---+-------------------+\n",
      "|  1|               data|\n",
      "|  4|                 c#|\n",
      "|  4|           winforms|\n",
      "|  4|    type-conversion|\n",
      "|  4|            decimal|\n",
      "|  4|            opacity|\n",
      "|  6|               html|\n",
      "|  6|                css|\n",
      "|  6|               css3|\n",
      "|  6|internet-explorer-7|\n",
      "|  8|                 c#|\n",
      "|  8|    code-generation|\n",
      "|  8|                 j#|\n",
      "|  8|           visualj#|\n",
      "|  9|                 c#|\n",
      "|  9|               .net|\n",
      "|  9|           datetime|\n",
      "| 11|                 c#|\n",
      "| 11|           datetime|\n",
      "| 11|           datediff|\n",
      "+---+-------------------+\n",
      "only showing top 20 rows\n",
      "\n"
     ]
    }
   ],
   "source": [
    "dfTags.show()"
   ]
  },
  {
   "cell_type": "code",
   "execution_count": 39,
   "metadata": {},
   "outputs": [
    {
     "name": "stdout",
     "output_type": "stream",
     "text": [
      "Number of rows in sample dfTagsSample = 1948\n",
      "Number of rows in dfTags = 9999\n"
     ]
    },
    {
     "data": {
      "text/plain": [
       "dfTagsSample = [id: int, tag: string]\n"
      ]
     },
     "metadata": {},
     "output_type": "display_data"
    },
    {
     "data": {
      "text/plain": [
       "[id: int, tag: string]"
      ]
     },
     "execution_count": 39,
     "metadata": {},
     "output_type": "execute_result"
    }
   ],
   "source": [
    "  // Sampling With Replacement\n",
    "// dfTags.sample( with replacement, fraction of original, random seed)\n",
    "  val dfTagsSample = dfTags.sample(true, 0.2, 37L)\n",
    "  println(s\"Number of rows in sample dfTagsSample = ${dfTagsSample.count()}\")\n",
    "  println(s\"Number of rows in dfTags = ${dfTags.count()}\")\n"
   ]
  },
  {
   "cell_type": "markdown",
   "metadata": {},
   "source": [
    "### bloomFilter\n",
    "\n",
    "bloomFilter(Column col, long expectedNumItems, double fpp)\n",
    "\n",
    "Builds a Bloom filter over a specified column.\n",
    "A Bloom filter is a space-efficient probabilistic data structure that offers an approximate containment \n",
    "test with one-sided error: if it claims that an item is contained in it, this might be in error, \n",
    "but if it claims that an item is not contained in it, then this is definitely true. Currently supported data types include:\n",
    "Byte,Short,Integer,Long,String\n",
    "\n",
    "The false positive probability (FPP) of a Bloom filter is defined as the probability that mightContain(Object) \n",
    "will erroneously return true for an object that hasu not actually been put in the BloomFilter. \n",
    "The implementation is largely based on the BloomFilter class from Guava.\n"
   ]
  },
  {
   "cell_type": "code",
   "execution_count": 40,
   "metadata": {},
   "outputs": [
    {
     "name": "stdout",
     "output_type": "stream",
     "text": [
      "bloom filter contains java tag = true\n",
      "bloom filter contains c# tag = true\n",
      "bloom filter contains some unknown tag = false\n"
     ]
    },
    {
     "data": {
      "text/plain": [
       "tagsBloomFilter = org.apache.spark.util.sketch.BloomFilterImpl@809c4023\n"
      ]
     },
     "metadata": {},
     "output_type": "display_data"
    },
    {
     "data": {
      "text/plain": [
       "org.apache.spark.util.sketch.BloomFilterImpl@809c4023"
      ]
     },
     "execution_count": 40,
     "metadata": {},
     "output_type": "execute_result"
    }
   ],
   "source": [
    " \n",
    "val tagsBloomFilter = dfTags.stat.bloomFilter(\"tag\", 1000L, 0.1)\n",
    "  println(s\"bloom filter contains java tag = ${tagsBloomFilter.mightContain(\"java\")}\")\n",
    "  println(s\"bloom filter contains c# tag = ${tagsBloomFilter.mightContain(\"c#\")}\")\n",
    "\n",
    "  println(s\"bloom filter contains some unknown tag = ${tagsBloomFilter.mightContain(\"unknown tag\")}\")\n"
   ]
  },
  {
   "cell_type": "markdown",
   "metadata": {},
   "source": [
    "### Count-min sketch\n",
    "A Count-min sketch is a probabilistic data structure used for summarizing streams of data in sub-linear space. \n",
    "Currently, supported data types include: Byte Short Integer Long String\n",
    "A CountMinSketch is initialized with a random seed, and a pair of parameters:\n",
    "relative error (or eps), and\n",
    "confidence (or delta)\n",
    "Suppose you want to estimate the number of times an element x has appeared in a data stream so far. \n",
    "With probability delta, the estimate of this frequency is within \n",
    "the range true frequency <= estimate <= true frequency + eps * N, where N is the total \n",
    "count of items have appeared the data stream so far. Under the cover, a CountMinSketch is essentially a \n",
    "two-dimensional long array with depth d and width w, where\n",
    "d = ceil(2 / eps)\n",
    "w = ceil(-log(1 - confidence) / log(2))"
   ]
  },
  {
   "cell_type": "code",
   "execution_count": 41,
   "metadata": {},
   "outputs": [
    {
     "name": "stdout",
     "output_type": "stream",
     "text": [
      "Estimated frequency for tag java = 484\n",
      "Estimated frequency for tag C# = 329\n"
     ]
    },
    {
     "data": {
      "text/plain": [
       "cmsTag = org.apache.spark.util.sketch.CountMinSketchImpl@fbf07245\n",
       "estimatedFrequency = 484\n",
       "estimatedFrequency_2 = 329\n"
      ]
     },
     "metadata": {},
     "output_type": "display_data"
    },
    {
     "data": {
      "text/plain": [
       "329"
      ]
     },
     "execution_count": 41,
     "metadata": {},
     "output_type": "execute_result"
    }
   ],
   "source": [
    " // Count Min Sketch\n",
    "//countMinSketch(Column col, double eps, double confidence, int seed)\n",
    "\n",
    "  val cmsTag = dfTags.stat.countMinSketch(\"tag\", 0.1, 0.99, 38)\n",
    "  val estimatedFrequency = cmsTag.estimateCount(\"java\")\n",
    "  println(s\"Estimated frequency for tag java = $estimatedFrequency\")\n",
    "\n",
    "  val estimatedFrequency_2 = cmsTag.estimateCount(\"C#\")\n",
    "  println(s\"Estimated frequency for tag C# = $estimatedFrequency_2\")"
   ]
  },
  {
   "cell_type": "code",
   "execution_count": 42,
   "metadata": {},
   "outputs": [
    {
     "name": "stdout",
     "output_type": "stream",
     "text": [
      "7\n",
      "20\n"
     ]
    }
   ],
   "source": [
    "//ceil (-log(1 - 0.99) / log(2))=7\n",
    "//ceil (2 / 0.1) =20\n",
    "\n",
    "println(cmsTag.depth) \n",
    "println(cmsTag.width)"
   ]
  },
  {
   "cell_type": "code",
   "execution_count": null,
   "metadata": {},
   "outputs": [],
   "source": []
  }
 ],
 "metadata": {
  "kernelspec": {
   "display_name": "Apache Toree - Scala",
   "language": "scala",
   "name": "apache_toree_scala"
  },
  "language_info": {
   "codemirror_mode": "text/x-scala",
   "file_extension": ".scala",
   "mimetype": "text/x-scala",
   "name": "scala",
   "pygments_lexer": "scala",
   "version": "2.11.8"
  }
 },
 "nbformat": 4,
 "nbformat_minor": 2
}
